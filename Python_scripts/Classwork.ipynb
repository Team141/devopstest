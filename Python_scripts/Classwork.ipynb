{
 "cells": [
  {
   "cell_type": "code",
   "execution_count": 1,
   "id": "029f9074",
   "metadata": {},
   "outputs": [
    {
     "name": "stdout",
     "output_type": "stream",
     "text": [
      "welcome to Python\n"
     ]
    }
   ],
   "source": [
    "print (\"welcome to Python\")\n"
   ]
  },
  {
   "cell_type": "code",
   "execution_count": 54,
   "id": "7395a90b",
   "metadata": {},
   "outputs": [
    {
     "name": "stdout",
     "output_type": "stream",
     "text": [
      "Python indentations\n"
     ]
    }
   ],
   "source": [
    "print(\"Python indentations\")"
   ]
  },
  {
   "cell_type": "code",
   "execution_count": 53,
   "id": "36663080",
   "metadata": {},
   "outputs": [
    {
     "name": "stdout",
     "output_type": "stream",
     "text": [
      "Python indentations\n",
      "\n",
      "#######\n"
     ]
    }
   ],
   "source": [
    "print(\"Python indentations\")\n",
    "print(\"\")\n",
    "print(\"#######\")"
   ]
  },
  {
   "cell_type": "code",
   "execution_count": 4,
   "id": "37b3d228",
   "metadata": {},
   "outputs": [
    {
     "name": "stdout",
     "output_type": "stream",
     "text": [
      "$$$$$$$$$$$$$$\n"
     ]
    }
   ],
   "source": [
    "#This is comment, single line\n",
    "print(\"$$$$$$$$$$$$$$\")"
   ]
  },
  {
   "cell_type": "code",
   "execution_count": 5,
   "id": "ff76421c",
   "metadata": {},
   "outputs": [
    {
     "name": "stdout",
     "output_type": "stream",
     "text": [
      "&&&&&&&&&&\n"
     ]
    }
   ],
   "source": [
    "\"\"\"This \n",
    "is a \n",
    "multi line \n",
    "comment\"\"\"\n",
    "print(\"&&&&&&&&&&\")"
   ]
  },
  {
   "cell_type": "code",
   "execution_count": 6,
   "id": "58c4021d",
   "metadata": {},
   "outputs": [
    {
     "name": "stdout",
     "output_type": "stream",
     "text": [
      "$$$$$$$$$$$$\n"
     ]
    }
   ],
   "source": [
    "'''\n",
    "This is\n",
    "a multi line\n",
    "comment'''\n",
    "print(\"$$$$$$$$$$$$\")"
   ]
  },
  {
   "cell_type": "code",
   "execution_count": 7,
   "id": "14874e07",
   "metadata": {},
   "outputs": [
    {
     "name": "stdout",
     "output_type": "stream",
     "text": [
      "Name\n",
      "python\n",
      "Name\n"
     ]
    }
   ],
   "source": [
    "Name='python'\n",
    "print(\"Name\")\n",
    "print(Name)\n",
    "print('Name')"
   ]
  },
  {
   "cell_type": "code",
   "execution_count": 52,
   "id": "812b0ebc",
   "metadata": {},
   "outputs": [
    {
     "name": "stdout",
     "output_type": "stream",
     "text": [
      "This is a string.\n",
      "This is a string.\n"
     ]
    }
   ],
   "source": [
    "Name=Python\n",
    "Python='Python'\n",
    "print(\"This is a string.\")\n",
    "print('This is a string.')"
   ]
  },
  {
   "cell_type": "code",
   "execution_count": 1,
   "id": "e3cb7cd8",
   "metadata": {},
   "outputs": [
    {
     "name": "stdout",
     "output_type": "stream",
     "text": [
      "This is a Python\n"
     ]
    }
   ],
   "source": [
    "Python='Python'\n",
    "print(\"This is a\",Python)"
   ]
  },
  {
   "cell_type": "code",
   "execution_count": 15,
   "id": "23c111e3",
   "metadata": {},
   "outputs": [
    {
     "name": "stdout",
     "output_type": "stream",
     "text": [
      "Kumar raj luckynumber is 7\n"
     ]
    }
   ],
   "source": [
    "print(\"Kumar raj luckynumber is\",7)\n"
   ]
  },
  {
   "cell_type": "code",
   "execution_count": 16,
   "id": "0eae7bfb",
   "metadata": {},
   "outputs": [
    {
     "name": "stdout",
     "output_type": "stream",
     "text": [
      "This\n",
      "is\n",
      "a\n",
      "multi line\n",
      "string print\n"
     ]
    }
   ],
   "source": [
    "#Paragraph string\n",
    "print(\"\"\"This\n",
    "is\n",
    "a\n",
    "multi line\n",
    "string print\"\"\")"
   ]
  },
  {
   "cell_type": "code",
   "execution_count": 3,
   "id": "912c911c",
   "metadata": {},
   "outputs": [
    {
     "name": "stdout",
     "output_type": "stream",
     "text": [
      "a for alpha \n",
      "b for beta \n",
      "c for theta\n"
     ]
    }
   ],
   "source": [
    "a = 'alpha'\n",
    "b = \"beta\"\n",
    "c = \"\"\"theta\"\"\"\n",
    "\n",
    "print(\"a for\",a,\"\\nb for\",b,\"\\nc for\",c)"
   ]
  },
  {
   "cell_type": "code",
   "execution_count": 21,
   "id": "2d5c020e",
   "metadata": {},
   "outputs": [
    {
     "name": "stdout",
     "output_type": "stream",
     "text": [
      "<class 'str'>\n"
     ]
    }
   ],
   "source": [
    "print(type(a))"
   ]
  },
  {
   "cell_type": "code",
   "execution_count": 23,
   "id": "ad5469cf",
   "metadata": {},
   "outputs": [
    {
     "name": "stdout",
     "output_type": "stream",
     "text": [
      "12 6.7\n"
     ]
    }
   ],
   "source": [
    "#Numbers\n",
    "#Integer\n",
    "\n",
    "x = 12\n",
    "y = 6.7\n",
    "\n",
    "print(x,y)"
   ]
  },
  {
   "cell_type": "code",
   "execution_count": 24,
   "id": "5ac02a13",
   "metadata": {},
   "outputs": [
    {
     "name": "stdout",
     "output_type": "stream",
     "text": [
      "['alpha', 'beta', 'theta', 'Devops', 89, 90.245]\n"
     ]
    }
   ],
   "source": [
    "#List, collection of multi datatypes, enclosed in []. This \n",
    "# datatypes can be changeable(MUTABLE)\n",
    "\n",
    "list1 = [a, b, c, \"Devops\", 89, 90.245]\n",
    "\n",
    "\n",
    "print(list1)"
   ]
  },
  {
   "cell_type": "code",
   "execution_count": 5,
   "id": "52573b72",
   "metadata": {},
   "outputs": [
    {
     "name": "stdout",
     "output_type": "stream",
     "text": [
      "{'Devops', 'alpha', 'beta', 'theta', 89, 90.245}\n"
     ]
    }
   ],
   "source": [
    "#Tuple, collection of multi datatypes, enclosed in {}. This \n",
    "# datatypes can be unchangeable(IMMUTABLE)\n",
    "\n",
    "tuple1 = {a, b, c, \"Devops\", 89, 90.245}\n",
    "\n",
    "print(tuple1)"
   ]
  },
  {
   "cell_type": "code",
   "execution_count": 28,
   "id": "ed98fcc2",
   "metadata": {},
   "outputs": [
    {
     "name": "stdout",
     "output_type": "stream",
     "text": [
      "{'Name': 'Kumar Raj', 'Age': 21, 'Weight': 54, 'Hobbies': ['Reading', 'Listening to Music']}\n"
     ]
    }
   ],
   "source": [
    "#Dictionary, collection of elements in pair(key:value), enclosed inside {}\n",
    "\n",
    "my_dictionary = {\"Name\":\"Kumar Raj\",\"Age\":21,\"Weight\":54,\"Hobbies\":[\"Reading\",\"Listening to Music\"]}\n",
    "\n",
    "\n",
    "print(my_dictionary)"
   ]
  },
  {
   "cell_type": "code",
   "execution_count": 29,
   "id": "d0b6f465",
   "metadata": {},
   "outputs": [
    {
     "name": "stdout",
     "output_type": "stream",
     "text": [
      "Virus new variant is deltacron\n"
     ]
    }
   ],
   "source": [
    "###SLICING\n",
    "\n",
    "message = \"Virus new variant is deltacron\"\n",
    "\n",
    "print(message)"
   ]
  },
  {
   "cell_type": "code",
   "execution_count": 31,
   "id": "5112bac8",
   "metadata": {},
   "outputs": [
    {
     "name": "stdout",
     "output_type": "stream",
     "text": [
      "V\n",
      "u\n",
      "c\n",
      "V\n"
     ]
    }
   ],
   "source": [
    "print(message[0])\n",
    "print(message[3])\n",
    "print(message[-4])\n",
    "print(message[-1+1])"
   ]
  },
  {
   "cell_type": "code",
   "execution_count": 32,
   "id": "767db032",
   "metadata": {},
   "outputs": [
    {
     "name": "stdout",
     "output_type": "stream",
     "text": [
      "new \n"
     ]
    }
   ],
   "source": [
    "#string slicing\n",
    "print(message[6:10])"
   ]
  },
  {
   "cell_type": "code",
   "execution_count": 33,
   "id": "c21e7dcc",
   "metadata": {},
   "outputs": [
    {
     "name": "stdout",
     "output_type": "stream",
     "text": [
      "variant\n"
     ]
    }
   ],
   "source": [
    "print(message[10:17])"
   ]
  },
  {
   "cell_type": "code",
   "execution_count": 34,
   "id": "cbed5401",
   "metadata": {},
   "outputs": [
    {
     "name": "stdout",
     "output_type": "stream",
     "text": [
      "deltacron\n"
     ]
    }
   ],
   "source": [
    "print(message[-9:])"
   ]
  },
  {
   "cell_type": "code",
   "execution_count": 36,
   "id": "00097374",
   "metadata": {},
   "outputs": [
    {
     "name": "stdout",
     "output_type": "stream",
     "text": [
      "Virus\n"
     ]
    }
   ],
   "source": [
    "print(message[:5])"
   ]
  },
  {
   "cell_type": "code",
   "execution_count": 39,
   "id": "990d90c8",
   "metadata": {},
   "outputs": [],
   "source": [
    "#List Slicing\n",
    "\n",
    "animals=[\"snake\", \"Honeybadger\", \"Trex\", \"Leopard\", \"Cheetah\", \"Elephant\", \"crocodile\"]"
   ]
  },
  {
   "cell_type": "code",
   "execution_count": 40,
   "id": "61630c0d",
   "metadata": {},
   "outputs": [
    {
     "name": "stdout",
     "output_type": "stream",
     "text": [
      "['snake', 'Honeybadger', 'Trex', 'Leopard', 'Cheetah', 'Elephant', 'crocodile']\n"
     ]
    }
   ],
   "source": [
    "print(animals)"
   ]
  },
  {
   "cell_type": "code",
   "execution_count": 41,
   "id": "a74ba7d4",
   "metadata": {},
   "outputs": [
    {
     "name": "stdout",
     "output_type": "stream",
     "text": [
      "Honeybadger\n",
      "['Trex', 'Leopard', 'Cheetah']\n",
      "['snake', 'Honeybadger', 'Trex', 'Leopard']\n",
      "['Cheetah', 'Elephant', 'crocodile']\n"
     ]
    }
   ],
   "source": [
    "print(animals[1])\n",
    "print(animals[2:5])\n",
    "print(animals[:4])\n",
    "print(animals[-3:])"
   ]
  },
  {
   "cell_type": "code",
   "execution_count": 42,
   "id": "c8f8f9ff",
   "metadata": {},
   "outputs": [
    {
     "name": "stdout",
     "output_type": "stream",
     "text": [
      "['Trex', 'Leopard', 'Cheetah']\n"
     ]
    }
   ],
   "source": [
    "print(animals[2:5])"
   ]
  },
  {
   "cell_type": "code",
   "execution_count": 43,
   "id": "8f5d3a7e",
   "metadata": {},
   "outputs": [
    {
     "name": "stdout",
     "output_type": "stream",
     "text": [
      "Leopard\n"
     ]
    }
   ],
   "source": [
    "print(animals[2:5][-2])"
   ]
  },
  {
   "cell_type": "code",
   "execution_count": 44,
   "id": "f8515e87",
   "metadata": {},
   "outputs": [
    {
     "name": "stdout",
     "output_type": "stream",
     "text": [
      "Leo\n"
     ]
    }
   ],
   "source": [
    "print(animals[2:5][-2][:3])"
   ]
  },
  {
   "cell_type": "code",
   "execution_count": 45,
   "id": "c954bcb5",
   "metadata": {},
   "outputs": [
    {
     "name": "stdout",
     "output_type": "stream",
     "text": [
      "o\n"
     ]
    }
   ],
   "source": [
    "print(animals[2:5][-2][:3][-1])"
   ]
  },
  {
   "cell_type": "code",
   "execution_count": 46,
   "id": "5daee350",
   "metadata": {},
   "outputs": [
    {
     "name": "stdout",
     "output_type": "stream",
     "text": [
      "{'Name': 'Imran', 'Age': 24, 'Weight': 73.5, 'Hobbies': ['Dance', 'Boxing', 'Swimming']}\n"
     ]
    }
   ],
   "source": [
    "#Slicing Dictionary\n",
    "\n",
    "my_dictionary= {\"Name\":\"Imran\", \"Age\": 24, \"Weight\": 73.5, \"Hobbies\":[\"Dance\", \"Boxing\", \"Swimming\"]}\n",
    "print(my_dictionary)"
   ]
  },
  {
   "cell_type": "code",
   "execution_count": 49,
   "id": "735b37ea",
   "metadata": {},
   "outputs": [
    {
     "name": "stdout",
     "output_type": "stream",
     "text": [
      "Imran\n"
     ]
    }
   ],
   "source": [
    "print(my_dictionary[\"Name\"])"
   ]
  },
  {
   "cell_type": "code",
   "execution_count": 50,
   "id": "f385165a",
   "metadata": {},
   "outputs": [
    {
     "name": "stdout",
     "output_type": "stream",
     "text": [
      "Swimming\n"
     ]
    }
   ],
   "source": [
    "print(my_dictionary[\"Hobbies\"][-1])"
   ]
  },
  {
   "cell_type": "code",
   "execution_count": 51,
   "id": "a51851e7",
   "metadata": {},
   "outputs": [
    {
     "name": "stdout",
     "output_type": "stream",
     "text": [
      "ming\n"
     ]
    }
   ],
   "source": [
    "print(my_dictionary[\"Hobbies\"][-1][4:])"
   ]
  },
  {
   "cell_type": "markdown",
   "id": "19d6a338",
   "metadata": {},
   "source": [
    "## This is an Exercise of dictonary slicing "
   ]
  },
  {
   "cell_type": "code",
   "execution_count": null,
   "id": "4d575ec0",
   "metadata": {},
   "outputs": [],
   "source": [
    "##Hint :{key:{key:value, key:[], key:()}, key:[]}"
   ]
  },
  {
   "cell_type": "code",
   "execution_count": 20,
   "id": "d746b842",
   "metadata": {},
   "outputs": [
    {
     "name": "stdout",
     "output_type": "stream",
     "text": [
      "{'Class': {'Course': 'Devops', 'Names': ['Raj', 'Ram', 'Abdul', 'Mani', 'Khader'], 'Rollno': (1, 2, 3, 4, 5)}, 'Lang': ['Telugu', 'English']} \n",
      "\n",
      "Raj  with bearing roll no.  1  having  Devops  in  Telugu\n"
     ]
    }
   ],
   "source": [
    "my_class={\"Class\":{\"Course\":'Devops',\"Names\":['Raj', 'Ram', 'Abdul', 'Mani', 'Khader'],\"Rollno\":(1,2,3,4,5)},\"Lang\":['Telugu','English']}\n",
    "\n",
    "print(my_class,'\\n')\n",
    "print(my_class[\"Class\"][\"Names\"][0],\" with bearing roll no. \",my_class[\"Class\"] [\"Rollno\"][0],\" having \",\n",
    "     my_class[\"Class\"][\"Course\"],\" in \",my_class[\"Lang\"][0])"
   ]
  },
  {
   "cell_type": "code",
   "execution_count": null,
   "id": "6e19b10a",
   "metadata": {},
   "outputs": [],
   "source": []
  },
  {
   "cell_type": "code",
   "execution_count": null,
   "id": "059db7db",
   "metadata": {},
   "outputs": [],
   "source": []
  }
 ],
 "metadata": {
  "kernelspec": {
   "display_name": "Python 3 (ipykernel)",
   "language": "python",
   "name": "python3"
  },
  "language_info": {
   "codemirror_mode": {
    "name": "ipython",
    "version": 3
   },
   "file_extension": ".py",
   "mimetype": "text/x-python",
   "name": "python",
   "nbconvert_exporter": "python",
   "pygments_lexer": "ipython3",
   "version": "3.9.7"
  }
 },
 "nbformat": 4,
 "nbformat_minor": 5
}
